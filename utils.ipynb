{
 "cells": [
  {
   "cell_type": "markdown",
   "id": "24f95ef9",
   "metadata": {},
   "source": [
    "# Utility Functions"
   ]
  },
  {
   "cell_type": "markdown",
   "id": "392e4991",
   "metadata": {},
   "source": [
    "## Overview\n",
    "\n",
    "This notebook defines several utility functions for managing our multitask neural network models. The models contain custom masked linear layers that enable selective activation of parts of the models for different tasks.\n",
    "\n",
    "Three key functions are defined:\n",
    "\n",
    "* **set_model_task**: Sets the current task for all masked linear layers in the models. This allows switching the model behaviour for different tasks.\n",
    "* **cache_masks**: Caches the mask values for all masked linear layers. This is useful for saving the mask state for later use.\n",
    "* **set_num_tasks_learned**: Sets the number of tasks learned so far for all masked linear layers. This allows for incrementally increasing the capacity of the model as more tasks are learned.\n",
    "\n",
    "Together, these functions provide a convenient interface for controlling our multitask models during training and evaluation."
   ]
  },
  {
   "cell_type": "markdown",
   "id": "b7e3f0a8",
   "metadata": {},
   "source": [
    "## Importing Required Libraries"
   ]
  },
  {
   "cell_type": "code",
   "execution_count": null,
   "id": "24c89a95",
   "metadata": {},
   "outputs": [],
   "source": [
    "from utilities.models import MultitaskMaskLinear, MultitaskMaskLinearV2"
   ]
  },
  {
   "cell_type": "markdown",
   "id": "0e9fa959",
   "metadata": {},
   "source": [
    "## Functions for Multitask Model Management"
   ]
  },
  {
   "cell_type": "code",
   "execution_count": null,
   "id": "fc830034",
   "metadata": {},
   "outputs": [],
   "source": [
    "# Define a function to set the current task for each multitask module in the model\n",
    "def set_model_task(model, task, verbose=True):\n",
    "    # Loop over all named modules of the model\n",
    "    for n, m in model.named_modules():\n",
    "        # If the module is a multitask linear layer\n",
    "        if isinstance(m, MultitaskMaskLinear) or isinstance(m, MultitaskMaskLinearV2):\n",
    "            # If verbose, print a message indicating the task change\n",
    "            if verbose:\n",
    "                pringvbt(f\"=> Set task of {n} to {task}\")\n",
    "            # Set the task attribute of the module to the given task\n",
    "            m.task = task\n",
    "\n",
    "\n",
    "\n",
    "# Define a function to cache the masks for each multitask module in the model\n",
    "def cache_masks(model):\n",
    "    # Loop over all named modules of the model\n",
    "    for n, m in model.named_modules():\n",
    "        # If the module is a multitask linear layer\n",
    "        if isinstance(m, MultitaskMaskLinear) or isinstance(m, MultitaskMaskLinearV2):\n",
    "            # Print a message indicating that the mask state is being cached\n",
    "            print(f\"=> Caching mask state for {n}\")\n",
    "            # Cache the mask state\n",
    "            m.cache_masks()\n",
    "\n",
    "\n",
    "# Define a function to set the number of tasks learned for each multitask module in the model\n",
    "def set_num_tasks_learned(model, num_tasks_learned):\n",
    "    # Loop over all named modules of the model\n",
    "    for n, m in model.named_modules():\n",
    "        # If the module is a multitask linear layer\n",
    "        if isinstance(m, MultitaskMaskLinear) or isinstance(m, MultitaskMaskLinearV2):\n",
    "            # Print a message indicating the change in learned tasks\n",
    "            print(f\"=> Setting learned tasks of {n} to {num_tasks_learned}\")\n",
    "            # Set the number of tasks learned attribute of the module\n",
    "            m.num_tasks_learned = num_tasks_learned"
   ]
  },
  {
   "cell_type": "markdown",
   "id": "dd3c1cc8",
   "metadata": {},
   "source": [
    "--------------------------------------------------------------------------------------------------------------------------------\n",
    "\n",
    "#### Code adapted from:\n",
    "\n",
    "* https://github.com/RAIVNLab/supsup"
   ]
  }
 ],
 "metadata": {
  "kernelspec": {
   "display_name": "Python 3 (ipykernel)",
   "language": "python",
   "name": "python3"
  },
  "language_info": {
   "codemirror_mode": {
    "name": "ipython",
    "version": 3
   },
   "file_extension": ".py",
   "mimetype": "text/x-python",
   "name": "python",
   "nbconvert_exporter": "python",
   "pygments_lexer": "ipython3",
   "version": "3.9.13"
  }
 },
 "nbformat": 4,
 "nbformat_minor": 5
}
